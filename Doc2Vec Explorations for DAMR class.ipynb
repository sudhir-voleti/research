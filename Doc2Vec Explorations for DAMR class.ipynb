{
 "cells": [
  {
   "cell_type": "markdown",
   "metadata": {},
   "source": [
    "## Doc2Vec Intro\n",
    "\n",
    "We've seen different ways to create the numerical features for text such as vector representation using Bag of Words, Tf-IDF etc.\n",
    "\n",
    "Our focus here is learning doc2vec derived from Google's 2013 word2vec model. \n",
    "\n",
    "Here we create the *word embeddings*, by taking as input a large corpus of text and producing a vector space typically of several hundred dimesions (via projection onto lower-Dim spaces).\n",
    "\n",
    "The idea behind Word2Vec is that two words sharing similar contexts also share a similar meaning and consequently a similar vector representation from the model.\n",
    "\n",
    "Encapsulated in the famous adage: *A word is known by the company it keeps.*\n",
    "\n",
    "First things first, reading in reqd libraries."
   ]
  },
  {
   "cell_type": "code",
   "execution_count": 16,
   "metadata": {},
   "outputs": [],
   "source": [
    "#Import all the dependencies\n",
    "from gensim.models.doc2vec import Doc2Vec, TaggedDocument\n",
    "from nltk.tokenize import word_tokenize\n",
    "import time, requests, re\n",
    "import numpy as np\n",
    "import pandas as pd\n",
    "\n",
    "from sklearn.decomposition import PCA\n",
    "import matplotlib.pyplot as plt\n",
    "from sklearn.manifold import TSNE\n",
    "from sklearn_extra.cluster import KMedoids"
   ]
  },
  {
   "cell_type": "markdown",
   "metadata": {},
   "source": [
    "Below, we start simple. One toy example. Then we write funcs to scale over real-world corpora. \n",
    "\n",
    "### Dummy Example\n",
    "\n",
    "Things to note: a *tagged_doc* is the input format doc2vec demands. What is it? We'll see."
   ]
  },
  {
   "cell_type": "code",
   "execution_count": 2,
   "metadata": {},
   "outputs": [
    {
     "data": {
      "text/plain": [
       "['I love machine learning. Its awesome.',\n",
       " 'I love coding in python',\n",
       " 'I love building chatbots',\n",
       " 'they chat amagingly well']"
      ]
     },
     "execution_count": 2,
     "metadata": {},
     "output_type": "execute_result"
    }
   ],
   "source": [
    "# prep data 4 trg\n",
    "data = [\"I love machine learning. Its awesome.\",\n",
    "        \"I love coding in python\",\n",
    "        \"I love building chatbots\",\n",
    "        \"they chat amagingly well\"]\n",
    "\n",
    "data # view data"
   ]
  },
  {
   "cell_type": "code",
   "execution_count": 3,
   "metadata": {},
   "outputs": [
    {
     "data": {
      "text/plain": [
       "[TaggedDocument(words=['i', 'love', 'machine', 'learning', '.', 'its', 'awesome', '.'], tags=['0']),\n",
       " TaggedDocument(words=['i', 'love', 'coding', 'in', 'python'], tags=['1']),\n",
       " TaggedDocument(words=['i', 'love', 'building', 'chatbots'], tags=['2']),\n",
       " TaggedDocument(words=['they', 'chat', 'amagingly', 'well'], tags=['3'])]"
      ]
     },
     "execution_count": 3,
     "metadata": {},
     "output_type": "execute_result"
    }
   ],
   "source": [
    "# prep data for model\n",
    "tagged_data = [TaggedDocument(words=word_tokenize(_d.lower()), tags=[str(i)]) for i, _d in enumerate(data)]\n",
    "tagged_data  # view what tagged_data are like"
   ]
  },
  {
   "cell_type": "code",
   "execution_count": 7,
   "metadata": {},
   "outputs": [
    {
     "name": "stderr",
     "output_type": "stream",
     "text": [
      "C:\\ProgramData\\Anaconda3\\lib\\site-packages\\gensim\\models\\doc2vec.py:574: UserWarning: The parameter `size` is deprecated, will be removed in 4.0.0, use `vector_size` instead.\n",
      "  warnings.warn(\"The parameter `size` is deprecated, will be removed in 4.0.0, use `vector_size` instead.\")\n"
     ]
    }
   ],
   "source": [
    "# start model trg\n",
    "max_epochs = 20\n",
    "vec_size = 20  # larger usually,  like 100 in full docs\n",
    "alpha = 0.025  # initial learning rate\n",
    "\n",
    "model = Doc2Vec(size=vec_size,\n",
    "                alpha=alpha, \n",
    "                min_alpha=0.00025,\n",
    "                min_count=1,\n",
    "                dm =1)  # PV-DM. Else dm=0 => PV-DBOW\n",
    "  \n",
    "model.build_vocab(tagged_data)"
   ]
  },
  {
   "cell_type": "code",
   "execution_count": 8,
   "metadata": {},
   "outputs": [
    {
     "name": "stdout",
     "output_type": "stream",
     "text": [
      "iteration 0\n",
      "iteration 1\n",
      "iteration 2\n",
      "iteration 3\n",
      "iteration 4\n",
      "iteration 5\n",
      "iteration 6\n",
      "iteration 7\n",
      "iteration 8\n",
      "iteration 9\n",
      "iteration 10\n",
      "iteration 11\n",
      "iteration 12\n",
      "iteration 13\n",
      "iteration 14\n",
      "iteration 15"
     ]
    },
    {
     "name": "stderr",
     "output_type": "stream",
     "text": [
      "C:\\ProgramData\\Anaconda3\\lib\\site-packages\\ipykernel_launcher.py:5: DeprecationWarning: Call to deprecated `iter` (Attribute will be removed in 4.0.0, use self.epochs instead).\n",
      "  \"\"\"\n"
     ]
    },
    {
     "name": "stdout",
     "output_type": "stream",
     "text": [
      "\n",
      "iteration 16\n",
      "iteration 17\n",
      "iteration 18\n",
      "iteration 19\n",
      "Model Saved\n"
     ]
    }
   ],
   "source": [
    "for epoch in range(max_epochs):\n",
    "    print('iteration {0}'.format(epoch))\n",
    "    model.train(tagged_data,\n",
    "                total_examples=model.corpus_count,\n",
    "                epochs=model.iter)\n",
    "    # decrease the learning rate\n",
    "    model.alpha -= 0.0002\n",
    "    # fix the learning rate, no decay\n",
    "    model.min_alpha = model.alpha\n",
    "\n",
    "# always a good idea to save a trained model for later reuse    \n",
    "model.save(\"d2v.model\")\n",
    "print(\"Model Saved\")"
   ]
  },
  {
   "cell_type": "code",
   "execution_count": 9,
   "metadata": {},
   "outputs": [
    {
     "name": "stdout",
     "output_type": "stream",
     "text": [
      "v1_infer [-0.00700873  0.00669786 -0.00044506 -0.01504324  0.0036661  -0.00460372\n",
      "  0.01176711 -0.01034304  0.01819101 -0.00726151  0.00135531 -0.02349542\n",
      " -0.0134456   0.0073022  -0.00266224 -0.00219704  0.00642256  0.0067669\n",
      "  0.02527237 -0.01990129]\n"
     ]
    }
   ],
   "source": [
    "# reload saved model and implement\n",
    "model= Doc2Vec.load(\"d2v.model\")\n",
    "\n",
    "# to find the vector of a document which is not in training data\n",
    "test_data = word_tokenize(\"I love chatbots\".lower()); test_data\n",
    "v1 = model.infer_vector(test_data)\n",
    "print(\"v1_infer\", v1)  # 20-D vector reps test_data doc"
   ]
  },
  {
   "cell_type": "code",
   "execution_count": 11,
   "metadata": {},
   "outputs": [
    {
     "name": "stdout",
     "output_type": "stream",
     "text": [
      "[('0', 0.49739646911621094), ('2', 0.29872626066207886), ('3', 0.19457633793354034)]\n"
     ]
    }
   ],
   "source": [
    "# to find most similar doc using tags\n",
    "similar_doc = model.docvecs.most_similar('1')\n",
    "print(similar_doc)  # prints [(doc_id, simil_score)]"
   ]
  },
  {
   "cell_type": "code",
   "execution_count": 12,
   "metadata": {},
   "outputs": [
    {
     "name": "stdout",
     "output_type": "stream",
     "text": [
      "[ 0.01921132  0.01558866  0.01009466 -0.01928704 -0.01787639 -0.02025327\n",
      "  0.02059265 -0.01642796 -0.01904141  0.01500068  0.03794098  0.02322651\n",
      "  0.00061994  0.00045242  0.02098626  0.01133218 -0.0060255  -0.01436708\n",
      "  0.03732725  0.00756484]\n"
     ]
    }
   ],
   "source": [
    "# to find vector of doc in training data using tags\n",
    "print(model.docvecs['1'])"
   ]
  },
  {
   "cell_type": "markdown",
   "metadata": {},
   "source": [
    "Time to scale up to a real world dataset. \n",
    "\n",
    "What else but our old favorite - the Amazon nokia lumia reviews dataset.\n",
    "\n",
    "### Scaling to a real-world corpus\n",
    "\n",
    "Will try reading directly off of the web. Else use the nokia.txt file.\n",
    "\n",
    "Behold."
   ]
  },
  {
   "cell_type": "code",
   "execution_count": 13,
   "metadata": {},
   "outputs": [
    {
     "name": "stdout",
     "output_type": "stream",
     "text": [
      "Wall time: 823 ms\n"
     ]
    },
    {
     "data": {
      "text/plain": [
       "120"
      ]
     },
     "execution_count": 13,
     "metadata": {},
     "output_type": "execute_result"
    }
   ],
   "source": [
    "# wanna try abv for nokia dataset?\n",
    "import requests\n",
    "url = \"https://gitlab.com/sudhir-voleti/sample-datasets/-/raw/master/amazon_nokia_lumia_reviews.txt\"\n",
    "%time nokia1 = requests.get(url).text\n",
    "nokia2 = nokia1.split('\\n')\n",
    "nokia = nokia2[:(len(nokia2)-1)]; len(nokia)\n",
    "\n",
    "# read data from local drive\n",
    "#nokia=[]\n",
    "#a0 = open(\"C:/Users/20052/Desktop/amazon nokia lumia reviews.txt\")\n",
    "#for line in a0:\n",
    "#    nokia.append(line)\n",
    "#a0.close()"
   ]
  },
  {
   "cell_type": "code",
   "execution_count": 14,
   "metadata": {},
   "outputs": [
    {
     "data": {
      "text/plain": [
       "\"I have had Samsung phones, where the screens are nice, but the plastic bodies come apart all of the time and feel flimsy. I have had iPhones, where the user interface is just so boring, even with all those apps that cost you money.<br /><br />The Nokia has wonderful Nokia apps already installed, such as Nokia Drive, which gives you directions while you are driving with a talking attendant, it is super accurate and fun to use.  You get Nokia Music, which is a free music service with 1500 playlists put together by expert music people, very good and it's free!  You get ESPN, Nokia City Lens, which is where you hold your camera up while you are walking a city street and it will give you information about the area and what you are pointing at, it is really cool.  And there are other free Nokia \""
      ]
     },
     "execution_count": 14,
     "metadata": {},
     "output_type": "execute_result"
    }
   ],
   "source": [
    "# examine sample doc. First 1000 chars.\n",
    "nokia[0][:800]  # uh-oh. lotsa html junk in there."
   ]
  },
  {
   "cell_type": "code",
   "execution_count": 17,
   "metadata": {},
   "outputs": [
    {
     "name": "stdout",
     "output_type": "stream",
     "text": [
      "Wall time: 998 µs\n"
     ]
    },
    {
     "data": {
      "text/plain": [
       "\"I have had Samsung phones, where the screens are nice, but the plastic bodies come apart all of the time and feel flimsy. I have had iPhones, where the user interface is just so boring, even with all those apps that cost you money.The Nokia has wonderful Nokia apps already installed, such as Nokia Drive, which gives you directions while you are driving with a talking attendant, it is super accurate and fun to use.  You get Nokia Music, which is a free music service with 1500 playlists put together by expert music people, very good and it's free!  You get ESPN, Nokia City Lens, which is where you hold your camera up while you are walking a city street and it will give you information about the area and what you are pointing at, it is really cool.  And there are other free Nokia apps as well, like Camera Extras, that let you do things like take action shots and panorama photos. There's a Six Flags app, PGA Tour, Contacts Transfer, The Caddie +, Univision, Groupon, Soundtracker that conne\""
      ]
     },
     "execution_count": 17,
     "metadata": {},
     "output_type": "execute_result"
    }
   ],
   "source": [
    "# clean the corpus\n",
    "import re\n",
    "%time nokia = list(map(lambda x: re.sub(r'<.*?>', '', x), nokia)) # 0.001s\n",
    "nokia[0][:1000]  # check if junk's gone now."
   ]
  },
  {
   "cell_type": "code",
   "execution_count": 18,
   "metadata": {},
   "outputs": [
    {
     "name": "stdout",
     "output_type": "stream",
     "text": [
      "Wall time: 111 ms\n"
     ]
    },
    {
     "data": {
      "text/plain": [
       "TaggedDocument(words=['i', 'have', 'had', 'samsung', 'phones', ',', 'where', 'the', 'screens', 'are', 'nice', ',', 'but', 'the', 'plastic', 'bodies', 'come', 'apart', 'all', 'of', 'the', 'time', 'and', 'feel', 'flimsy', '.', 'i', 'have', 'had', 'iphones', ',', 'where', 'the', 'user', 'interface', 'is', 'just', 'so', 'boring', ',', 'even', 'with', 'all', 'those', 'apps', 'that', 'cost', 'you', 'money.the', 'nokia', 'has', 'wonderful', 'nokia', 'apps', 'already', 'installed', ',', 'such', 'as', 'nokia', 'drive', ',', 'which', 'gives', 'you', 'directions', 'while', 'you', 'are', 'driving', 'with', 'a', 'talking', 'attendant', ',', 'it', 'is', 'super', 'accurate', 'and', 'fun', 'to', 'use', '.', 'you', 'get', 'nokia', 'music', ',', 'which', 'is', 'a', 'free', 'music', 'service', 'with', '1500', 'playlists', 'put', 'together', 'by', 'expert', 'music', 'people', ',', 'very', 'good', 'and', 'it', \"'s\", 'free', '!', 'you', 'get', 'espn', ',', 'nokia', 'city', 'lens', ',', 'which', 'is', 'where', 'you', 'hold', 'your', 'camera', 'up', 'while', 'you', 'are', 'walking', 'a', 'city', 'street', 'and', 'it', 'will', 'give', 'you', 'information', 'about', 'the', 'area', 'and', 'what', 'you', 'are', 'pointing', 'at', ',', 'it', 'is', 'really', 'cool', '.', 'and', 'there', 'are', 'other', 'free', 'nokia', 'apps', 'as', 'well', ',', 'like', 'camera', 'extras', ',', 'that', 'let', 'you', 'do', 'things', 'like', 'take', 'action', 'shots', 'and', 'panorama', 'photos', '.', 'there', \"'s\", 'a', 'six', 'flags', 'app', ',', 'pga', 'tour', ',', 'contacts', 'transfer', ',', 'the', 'caddie', '+', ',', 'univision', ',', 'groupon', ',', 'soundtracker', 'that', 'connects', 'you', 'to', 'internet', 'radio', 'for', 'free', ',', 'let', \"'s\", 'you', 'get', 'concert', 'tickets', ',', 'look', 'at', 'lyrics', ',', 'share', 'comments', 'with', 'your', 'friends', 'on', 'their', 'music', ',', 'et', '.', 'there', \"'s\", 'counters', ',', 'that', 'keeps', 'track', 'of', 'calls', 'and', 'data', 'usuage', ',', 'creative', 'studio', ',', 'which', 'is', 'a', 'photo', 'editing', 'app', ',', 'and', 'so', 'much', 'more', '!', 'as', 'a', 'windows', 'phone', ',', 'you', 'will', 'have', '7gb', 'of', 'free', 'cloud', 'storage', '(', 'which', 'is', 'the', 'most', 'for', 'any', 'cloud', 'storage', 'offered', ')', 'for', 'all', 'your', 'files', 'and', 'music', 'and', 'apps', 'on', 'sky', 'drive', ',', 'with', 'the', 'option', 'to', 'upgrade', 'at', 'a', 'cost.the', 'camera', 'takes', 'great', 'pictures', 'with', 'the', 'carl', 'zeiss', 'lense', 'and', 'there', 'are', 'ways', 'to', 'adjust', 'you', 'settings', '.', 'the', 'phone', 'takes', 'great', '720p', 'videos', ',', 'which', 'is', 'a', 'whole', 'lot', 'better', 'than', '1080p', 'in', 'a', 'lesser', 'camera.the', 'windows', '7.5', 'user', 'interface', 'is', 'super', 'easy', 'to', 'use', ',', 'and', 'it', 'is', 'very', 'pretty', 'to', 'look', 'at', '.', 'there', 'are', 'a', 'ton', 'of', 'apps', 'in', 'the', 'marketplace', ',', 'and', 'the', 'most', 'popular', 'ones', 'are', 'there', ',', 'many', 'of', 'them', 'are', 'free.the', 'beutiful', 'cyan', 'body', 'on', 'this', 'phone', 'is', 'a', 'matte', 'finish', ',', 'so', 'it', 'does', \"n't\", 'show', 'fingerprints', ',', 'it', 'is', 'made', 'of', 'polycarbonate', ',', 'which', 'is', 'the', 'same', 'hard', 'plastic', 'that', 'eye', 'glass', 'frames', 'are', 'made', '.', 'if', 'you', 'were', 'to', 'get', 'a', 'deep', 'scratch', 'the', 'color', 'goes', 'all', 'the', 'way', 'through', ',', 'so', 'it', 'wo', \"n't\", 'show', '.', 'even', 'the', 'usb', 'charger', 'has', 'a', 'modern', 'style', ',', 'with', 'it', \"'s\", 'round', 'geometric', 'shape', 'outlet', 'plug', '.', 'all', 'in', 'all', 'this', 'is', 'one', 'hot', 'phone', '.'], tags=['0'])"
      ]
     },
     "execution_count": 18,
     "metadata": {},
     "output_type": "execute_result"
    }
   ],
   "source": [
    "# prep data for doc2vec model\n",
    "%time tagged_data = [TaggedDocument(words=word_tokenize(_d.lower()), tags=[str(i)]) for i, _d in enumerate(nokia)] # 0.1s\n",
    "tagged_data[0]"
   ]
  },
  {
   "cell_type": "markdown",
   "metadata": {},
   "source": [
    "#### Explore struc of tagged doc"
   ]
  },
  {
   "cell_type": "code",
   "execution_count": 19,
   "metadata": {},
   "outputs": [
    {
     "name": "stdout",
     "output_type": "stream",
     "text": [
      "['i', 'have', 'been', 'using', 'a', 'blackberry', 'curve', 'for', 'the', 'last']\n",
      "['10']\n"
     ]
    },
    {
     "data": {
      "text/plain": [
       "['10']"
      ]
     },
     "execution_count": 19,
     "metadata": {},
     "output_type": "execute_result"
    }
   ],
   "source": [
    "len(tagged_data[10])  # len=2 for any tagged_doc: .words and .tags\n",
    "print(tagged_data[10].words[:10])\n",
    "print(tagged_data[10].tags)\n",
    "\n",
    "# alternately, can use list structure to achieve above\n",
    "tagged_data[10][0][:10]  # first elem is tokens, first 10 are shown here\n",
    "tagged_data[10][1]  # second elem is doc tag number"
   ]
  },
  {
   "cell_type": "code",
   "execution_count": 20,
   "metadata": {},
   "outputs": [
    {
     "name": "stderr",
     "output_type": "stream",
     "text": [
      "C:\\ProgramData\\Anaconda3\\lib\\site-packages\\gensim\\models\\doc2vec.py:574: UserWarning: The parameter `size` is deprecated, will be removed in 4.0.0, use `vector_size` instead.\n",
      "  warnings.warn(\"The parameter `size` is deprecated, will be removed in 4.0.0, use `vector_size` instead.\")\n"
     ]
    },
    {
     "name": "stdout",
     "output_type": "stream",
     "text": [
      "iteration 0\n",
      "iteration 1\n",
      "iteration 2\n"
     ]
    },
    {
     "name": "stderr",
     "output_type": "stream",
     "text": [
      "C:\\ProgramData\\Anaconda3\\lib\\site-packages\\ipykernel_launcher.py:21: DeprecationWarning: Call to deprecated `iter` (Attribute will be removed in 4.0.0, use self.epochs instead).\n"
     ]
    },
    {
     "name": "stdout",
     "output_type": "stream",
     "text": [
      "iteration 3\n",
      "iteration 4\n",
      "iteration 5\n",
      "iteration 6\n",
      "iteration 7\n",
      "iteration 8\n",
      "iteration 9\n",
      "iteration 10\n",
      "iteration 11\n",
      "iteration 12\n",
      "iteration 13\n",
      "iteration 14\n",
      "iteration 15\n",
      "iteration 16\n",
      "iteration 17\n",
      "iteration 18\n",
      "iteration 19\n",
      "iteration 20\n",
      "iteration 21\n",
      "iteration 22\n",
      "iteration 23\n",
      "iteration 24\n",
      "iteration 25\n",
      "iteration 26\n",
      "iteration 27\n",
      "iteration 28\n",
      "iteration 29\n",
      "iteration 30\n",
      "iteration 31\n",
      "iteration 32\n",
      "iteration 33\n",
      "iteration 34\n",
      "iteration 35\n",
      "iteration 36\n",
      "iteration 37\n",
      "iteration 38\n",
      "iteration 39\n",
      "iteration 40\n",
      "iteration 41\n",
      "iteration 42\n",
      "iteration 43\n",
      "iteration 44\n",
      "iteration 45\n",
      "iteration 46\n",
      "iteration 47\n",
      "iteration 48\n",
      "iteration 49\n",
      "iteration 50\n",
      "iteration 51\n",
      "iteration 52\n",
      "iteration 53\n",
      "iteration 54\n",
      "iteration 55\n",
      "iteration 56\n",
      "iteration 57\n",
      "iteration 58\n",
      "iteration 59\n",
      "iteration 60\n",
      "iteration 61\n",
      "iteration 62\n",
      "iteration 63\n",
      "iteration 64\n",
      "iteration 65\n",
      "iteration 66\n",
      "iteration 67\n",
      "iteration 68\n",
      "iteration 69\n",
      "iteration 70\n",
      "iteration 71\n",
      "iteration 72\n",
      "iteration 73\n",
      "iteration 74\n",
      "iteration 75\n",
      "iteration 76\n",
      "iteration 77\n",
      "iteration 78\n",
      "iteration 79\n",
      "iteration 80\n",
      "iteration 81\n",
      "iteration 82\n",
      "iteration 83\n",
      "iteration 84\n",
      "iteration 85\n",
      "iteration 86\n",
      "iteration 87\n",
      "iteration 88\n",
      "iteration 89\n",
      "iteration 90\n",
      "iteration 91\n",
      "iteration 92\n",
      "iteration 93\n",
      "iteration 94\n",
      "iteration 95\n",
      "iteration 96\n",
      "iteration 97\n",
      "iteration 98\n",
      "iteration 99\n",
      "8.543999671936035  secs\n"
     ]
    }
   ],
   "source": [
    "## initialize model for trg\n",
    "max_epochs = 100\n",
    "vec_size = 100  # can always raise this.\n",
    "alpha = 0.025  # initial learning rate\n",
    "\n",
    "model = Doc2Vec(size=vec_size,\n",
    "                alpha=alpha, \n",
    "                min_alpha=0.00025,\n",
    "                min_count=1,\n",
    "                dm = 0)  # PV-DBOW coz its faster\n",
    "  \n",
    "model.build_vocab(tagged_data)\n",
    "\n",
    "# train model epoch-wise\n",
    "import time\n",
    "t1 = time.time()\n",
    "for epoch in range(max_epochs):\n",
    "    print('iteration {0}'.format(epoch))\n",
    "    model.train(tagged_data,\n",
    "                total_examples=model.corpus_count,\n",
    "                epochs=model.iter)\n",
    "    \n",
    "    # decrease the learning rate\n",
    "    model.alpha -= 0.0002\n",
    "    \n",
    "    # fix the learning rate, no decay\n",
    "    model.min_alpha = model.alpha\n",
    "t2 = time.time(); print(t2-t1, \" secs\")  # 7.8s for 100 epochs. 11.5s under PV-DM"
   ]
  },
  {
   "cell_type": "markdown",
   "metadata": {},
   "source": [
    "#### Exploring doc2vec model output n results\n",
    "\n",
    "Always a good idea to explore model output (structure, form, type) and see how we can tie it in with other workflows.\n",
    "\n",
    "Here, we know doc2vec will output document embeddings as vectors in 100-D space.\n",
    "\n",
    "BTW, why only 100-D space? Why not 200-D? No doubt as dimn rises, so will the richness with with the doc's content be captured. However, flip side is overheads rise too. \n",
    "\n",
    "And it's a concave curve. So going from 10-D to 20-D gives way more improvement than going from 100-D to 110-D."
   ]
  },
  {
   "cell_type": "code",
   "execution_count": 21,
   "metadata": {},
   "outputs": [
    {
     "name": "stdout",
     "output_type": "stream",
     "text": [
      "[ 5.8639568e-01  9.1216767e-01  3.2067594e-01 -8.3412176e-01\n",
      " -1.4275235e-01 -4.0742978e-01  3.1837726e-01 -3.8254032e-01\n",
      " -6.8069297e-01 -1.9426860e-01  6.0307318e-01  1.1269144e+00\n",
      "  1.2749577e-01  3.5758886e-01  3.9645880e-01  3.8962287e-01\n",
      " -2.3772375e-01 -3.6460197e-01  4.8275796e-01  1.9582690e-01\n",
      "  1.3636433e-01  1.6143522e-01  2.1111485e-01  7.2887552e-01\n",
      " -5.4356909e-01 -1.8298367e-01  4.3403172e-01  2.5384030e-01\n",
      "  8.8856578e-01 -3.6630940e-01  2.7588540e-01  5.1953977e-01\n",
      " -3.9941841e-01 -5.3736252e-01  4.1969329e-01  2.8033784e-01\n",
      " -2.9343554e-01 -4.1246462e-01 -2.3675237e-02 -1.2753011e-01\n",
      " -6.1235660e-01  2.6011018e-02 -5.4129314e-01  6.6697991e-01\n",
      " -5.4163349e-01 -7.3777634e-01  5.8320099e-01  6.1884433e-01\n",
      "  4.9688730e-01 -4.4245142e-01 -5.3269297e-01 -4.5216319e-01\n",
      "  6.6025060e-01 -1.0624506e+00  4.9955264e-01 -1.4027533e-01\n",
      " -4.9490345e-01  4.4669572e-01 -5.0145562e-04 -1.0730213e+00\n",
      " -4.7763079e-01  3.3975339e-01 -6.2816006e-01 -6.0812390e-01\n",
      " -5.9480149e-01  8.3198500e-01 -1.0304815e-01  1.1236790e+00\n",
      " -4.2362255e-01 -3.4323473e-02  9.5024288e-02 -3.8155723e-01\n",
      " -1.0612919e-01  2.2820802e-02 -1.0393358e-01  6.3822162e-03\n",
      " -8.8480115e-01 -1.5452072e-01 -3.0034411e-01 -5.6073803e-01\n",
      "  1.1376051e-01  1.2064023e-01  9.9643983e-02  1.2024013e-01\n",
      "  3.9083034e-01  3.4438154e-01  6.5531045e-02  6.7334527e-01\n",
      "  8.9319304e-02  3.0451187e-01  6.0829645e-01  3.8057244e-01\n",
      "  8.3386230e-01 -4.7352780e-02  2.3982398e-01 -2.3021953e-01\n",
      "  5.6189066e-01  4.7818559e-01 -4.4146451e-01 -7.0718491e-01]\n"
     ]
    }
   ],
   "source": [
    "# what does a doc vector look like? Say for doc 1? Use doc tags\n",
    "print(model.docvecs['1'])"
   ]
  },
  {
   "cell_type": "code",
   "execution_count": 22,
   "metadata": {},
   "outputs": [
    {
     "name": "stdout",
     "output_type": "stream",
     "text": [
      "test_doc:  Nokia phones are great. Mine was locked however. Windoes OS is nice but what about apps? Is there an app ecosystem? Decent hardware and things like camera, speakers, microphone etc. \n",
      "\n",
      "v1_infer [ 0.00310806  0.00797875 -0.00216386 -0.00627097  0.00814025 -0.00860568\n",
      "  0.02262737 -0.01401995 -0.00902577 -0.00093165  0.01700293  0.00883597\n",
      " -0.00392409 -0.00167819  0.03173675  0.00502249 -0.00922242  0.01284972\n",
      "  0.01510369 -0.01235891  0.00183247  0.01151151 -0.00304379  0.02215583\n",
      " -0.0170834  -0.01958368  0.00232717  0.00179605 -0.00983518 -0.01737233\n",
      "  0.00644592 -0.00663949 -0.01839537  0.00391921  0.01428954  0.0065851\n",
      " -0.01222014 -0.0090945   0.00703676 -0.0091085  -0.00074864  0.0226257\n",
      "  0.01517434  0.00949575 -0.00323696 -0.00384885 -0.00394362  0.02348977\n",
      "  0.02258436 -0.00853489 -0.01561774  0.02943768 -0.01315209  0.01397344\n",
      "  0.00816413  0.00426776 -0.02229282 -0.00611711  0.00318392 -0.01734214\n",
      " -0.01169626  0.00020881 -0.01148355  0.0017162   0.00682519  0.01461402\n",
      " -0.02185391 -0.00481798  0.01408669 -0.01490467 -0.01323168 -0.00720997\n",
      " -0.01462238 -0.00442368 -0.00061603 -0.00717228 -0.01853165  0.00219307\n",
      " -0.01200838 -0.01107668  0.01399489 -0.01506623 -0.01856052  0.00401689\n",
      " -0.00167805 -0.02391851 -0.01277041  0.02683118  0.00248412  0.01388017\n",
      "  0.01356028  0.00088777  0.00166923  0.00897752  0.01821924  0.00779016\n",
      "  0.01419521  0.02015548 -0.00625676 -0.00474543]\n"
     ]
    }
   ],
   "source": [
    "# to find the vector of a document which is not in training data\n",
    "test_doc = \"Nokia phones are great. Mine was locked however. Windoes OS is nice but what about apps? Is there an app ecosystem? Decent hardware and things like camera, speakers, microphone etc.\"\n",
    "print(\"test_doc: \", test_doc, '\\n')\n",
    "\n",
    "test_doc_tokenized = word_tokenize(test_doc.lower()); test_doc_tokenized\n",
    "v1 = model.infer_vector(test_data)\n",
    "print(\"v1_infer\", v1)  # 100-D vector reps test_data doc"
   ]
  },
  {
   "cell_type": "code",
   "execution_count": 23,
   "metadata": {},
   "outputs": [
    {
     "name": "stdout",
     "output_type": "stream",
     "text": [
      "[('43', 0.448507159948349), ('113', 0.4398250877857208), ('45', 0.4336927831172943), ('74', 0.4285132884979248), ('46', 0.41751500964164734), ('106', 0.4172267019748688), ('112', 0.40579891204833984), ('78', 0.4016795754432678), ('86', 0.39741718769073486), ('81', 0.3933131992816925)]\n"
     ]
    }
   ],
   "source": [
    "# to find 10 most similar doc using tags\n",
    "similar_doc = model.docvecs.most_similar('1')\n",
    "print(similar_doc)"
   ]
  },
  {
   "cell_type": "code",
   "execution_count": 24,
   "metadata": {},
   "outputs": [
    {
     "name": "stdout",
     "output_type": "stream",
     "text": [
      "[('72', 0.6305829286575317), ('37', 0.6110575199127197), ('98', 0.5875911116600037), ('85', 0.5863901376724243), ('44', 0.5803517699241638)]\n"
     ]
    }
   ],
   "source": [
    "# find docs most similar to inferred docs\n",
    "similar_doc = model.docvecs.most_similar([v1], topn=5)\n",
    "print(similar_doc)"
   ]
  },
  {
   "cell_type": "code",
   "execution_count": 25,
   "metadata": {},
   "outputs": [
    {
     "name": "stdout",
     "output_type": "stream",
     "text": [
      "score of a vs b 0.44125456 \n",
      "\n",
      "score of b vs a 0.44125456\n"
     ]
    },
    {
     "name": "stderr",
     "output_type": "stream",
     "text": [
      "C:\\ProgramData\\Anaconda3\\lib\\site-packages\\ipykernel_launcher.py:2: DeprecationWarning: Call to deprecated `n_similarity` (Method will be removed in 4.0.0, use self.wv.n_similarity() instead).\n",
      "  \n",
      "C:\\ProgramData\\Anaconda3\\lib\\site-packages\\ipykernel_launcher.py:6: DeprecationWarning: Call to deprecated `n_similarity` (Method will be removed in 4.0.0, use self.wv.n_similarity() instead).\n",
      "  \n"
     ]
    }
   ],
   "source": [
    "# find similarity between 2 docs, say docs 10 and 100\n",
    "score1 = model.n_similarity(tagged_data[10][0], tagged_data[100][0])  # 0.004s\n",
    "print('score of a vs b', score1, '\\n')\n",
    "\n",
    "# check if commutative\n",
    "score2 = model.n_similarity(tagged_data[100].words, tagged_data[10].words); score2  \n",
    "print('score of b vs a', score2)"
   ]
  },
  {
   "cell_type": "markdown",
   "metadata": {},
   "source": [
    "Recall how Wordnet enabled the use of a query-able thesaurus to pull up synonyms etc for words of interest from a model trained on a large corpus.\n",
    "\n",
    "Doc2vec permits similar functionality by allowing queries over trained local-corpus vocabulary.\n",
    "\n",
    "E.g., Suppose we wanted to know which words in the corpus (and in context) are closest to the word 'screen'. Kinda similar to how co-occurrences work but yet, distinct in that this is coming from a trained model over word vectors.\n",
    "\n",
    "### Word2Vec Functionality in Doc2Vec\n",
    "\n",
    "Behold."
   ]
  },
  {
   "cell_type": "code",
   "execution_count": 26,
   "metadata": {},
   "outputs": [
    {
     "name": "stdout",
     "output_type": "stream",
     "text": [
      "Wall time: 3.99 ms\n"
     ]
    },
    {
     "data": {
      "text/plain": [
       "[('differences', 0.36250683665275574),\n",
       " ('modernas', 0.3310854434967041),\n",
       " ('greatly', 0.27653980255126953),\n",
       " ('x+', 0.2757061719894409),\n",
       " ('quick', 0.27419769763946533),\n",
       " ('displayed', 0.26983392238616943),\n",
       " ('her', 0.26435765624046326),\n",
       " ('magnetometer', 0.26254594326019287)]"
      ]
     },
     "execution_count": 26,
     "metadata": {},
     "output_type": "execute_result"
    }
   ],
   "source": [
    "%time model.wv.most_similar(\"screen\", topn=8) # 0.001s"
   ]
  },
  {
   "cell_type": "markdown",
   "metadata": {},
   "source": [
    "What possibilities arise? Not everything above is a synonym but what we do get is a list of 'related' items.\n",
    "\n",
    "### Functionizing Similarity calc\n",
    "\n",
    "Say we want to know which docs ina  corpus are 'closest'/'farthest' to a statement/position/doc we have. \n",
    "\n",
    "How to go about it? Easy to functionize the proc and repeatedly call the func.\n",
    "\n",
    "Behold."
   ]
  },
  {
   "cell_type": "code",
   "execution_count": 28,
   "metadata": {},
   "outputs": [
    {
     "name": "stdout",
     "output_type": "stream",
     "text": [
      "Document (1): «this phone is great ! it 's the best phone i 've ever owned . i have been a dedicated high end android user , but i found this phone to be a much more satisfying experience than either the iphone or the android phones . i want an os that will meet my current needs and have a great user interface with a good amount of apps available for me to manage my daily mobile cell phone use , and not have to make expensive phone upgrades all the time . the nokia lumia 900 is a very well constructed phone.the aesthetics are pleasing , it 's modern and function goes well beyond my expectations . it operates very fast and smooth even though it has a single core processor and only 512mb on ram . if you are not aware of these specs , you might think it has a multi-core processor and more ram on board . nokia has come up with a phone that is both pleasing in design and very efficient when it comes to performance . the screen is bright with beautiful color saturated screen , and seems to have less glare outside when it 's sunny . i can actually read the screen in such conditions . this is a big plus for me ! it has 16gb of rom , which is plenty by itself , but pared with the 7gb of frees cloud storage , it 's more than enough for me . i really do n't know what the fuss is about concerning the number of apps available for windows phones . unless you are some kind of developer or techy person , there are plenty of apps available for this phone ( both from ms , nokia and third party ) for the everyday cell phone user , even business user . the game apps seems so much more refined ( probably because there are a lot of xbox games available for this phone ) and they run beautifully on this phone . i travel a lot and i 'm really looking forward to using this phone on my trips . i have always liked nokia phones because of the quality build and support . when i started using a smartphone i got away from nokia phones and started my android experience . now that nokia has chosen to team up with ms to re-enter the smartphone market , i wanted to try their phones again . what a lovely surprise ! i 'm crazy for the lumia 900 and look forward to future offerings from nokia , if and when i get tired of this phone or need to upgrade . i recommend this phone , it 's quality at affordable prices . great design , sturdy , fast and very easy to use , especially if you run windows 8 on your computer . try it ! you wo n't be sorry . by it from amazon , the best place to shop and that 's coming from a person that does n't or ever has worked for them . i forgot to tell you that there is an upgrade of the operating system to 7.8 , which is very similar to windows 8 , available for this phone . it 's very easy to install , just install zune on your windows computer , connect your phone to usb , and it will find the upgrade and instruct you how to install .»\n",
      "\n",
      "Model for which similarity computed Doc2Vec(dbow,d100,n5,s0.001,t3):\n",
      "\n",
      "Most similar  doc had simil_score:  0.968 \n",
      " doc text is:  this phone is great ! it 's the best phone i 've ever owned . i have been a dedicated high end android user , but i found this phone to be a much more satisfying experience than either the iphone or the android phones . i want an os that will meet my current needs and have a great user interface with a good amount of apps available for me to manage my daily mobile cell phone use , and not have to make expensive phone upgrades all the time . the nokia lumia 900 is a very well constructed phone.the aesthetics are pleasing , it 's modern and function goes well beyond my expectations . it operates very fast and smooth even though it has a single core processor and only 512mb on ram . if you are not aware of these specs , you might think it has a multi-core processor and more ram on board . nokia has come up with a phone that is both pleasing in design and very efficient when it comes to performance . the screen is bright with beautiful color saturated screen , and seems to have less glare outside when it 's sunny . i can actually read the screen in such conditions . this is a big plus for me ! it has 16gb of rom , which is plenty by itself , but pared with the 7gb of frees cloud storage , it 's more than enough for me . i really do n't know what the fuss is about concerning the number of apps available for windows phones . unless you are some kind of developer or techy person , there are plenty of apps available for this phone ( both from ms , nokia and third party ) for the everyday cell phone user , even business user . the game apps seems so much more refined ( probably because there are a lot of xbox games available for this phone ) and they run beautifully on this phone . i travel a lot and i 'm really looking forward to using this phone on my trips . i have always liked nokia phones because of the quality build and support . when i started using a smartphone i got away from nokia phones and started my android experience . now that nokia has chosen to team up with ms to re-enter the smartphone market , i wanted to try their phones again . what a lovely surprise ! i 'm crazy for the lumia 900 and look forward to future offerings from nokia , if and when i get tired of this phone or need to upgrade . i recommend this phone , it 's quality at affordable prices . great design , sturdy , fast and very easy to use , especially if you run windows 8 on your computer . try it ! you wo n't be sorry . by it from amazon , the best place to shop and that 's coming from a person that does n't or ever has worked for them . i forgot to tell you that there is an upgrade of the operating system to 7.8 , which is very similar to windows 8 , available for this phone . it 's very easy to install , just install zune on your windows computer , connect your phone to usb , and it will find the upgrade and instruct you how to install . \n",
      "\n",
      "\n",
      "second most similar  doc had simil_score:  0.48 \n",
      " doc text is:  great peice easy to handle and i like it very mcuh this is my third gift to my friend pefect \n",
      "\n",
      "\n",
      "Median similarity  doc had simil_score:  0.312 \n",
      " doc text is:  i ordered this phone about a week ago . and its been really great since.positives- the colour display is amazing on this phone-it has a single-core 1.4ghz , that works great ! _- even though it is a windows 7.5 ( up gradable to 7.8 ) , it still offers so much.youtube hd , facebook , twitter , skype , whatsapp , tango .. a bunch of apps that satisfied me.-the camera is great ! both back and front.- zune ! : some people complained about the fact that they needed a software to put music , videos and photos on their phone , but it turned out great ! if you know how to use the software effectively , you can put music and videos , onto the collection you want and it can sync wirelessly ! -the phone feels strong and well built ; i mean it should for the size and weight , i guess.-from watching screen reviews on youtube , the screen can be used as a hammer to pound in nails to wood ! so the screen is really good and apparently does n't scratch easily although , i have n't able to test it.-the games are great , but the really good ones you got to pay for .. lol .. buts thats the case for everything.-having microsoft office on your phone is great for students and people who need to write , edit and read docs on the go.the photo-editing capabilities are great ! negatives-even though i knew it was this big ( dimension wise ) i did n't get a feel for the phone , so when it came , it felt a little too big to be comfortable in your hand . so i 'll suggest to anyone , to ensure that you are comfortable with a phone this big . ( and heavy ) -some of the apps for windows phone 7.8 , to me , were poorly designed . e.g facebook : you are limited to what you can do from your phone compared to what you can do on the computer , to me , that should n't be.- i wish there was a longer battery life . i more or less have to charge it everyday . not sure what other phones offer on the market . but i do n't like it . lol \n",
      "\n",
      "\n",
      "Least similarity  doc had simil_score:  0.064 \n",
      " doc text is:  unlocked , i can use it for text and call . and i do have data plan but it'sd not working ... was i doing something wrong ? \n",
      "\n",
      "\n",
      "Wall time: 14 ms\n"
     ]
    }
   ],
   "source": [
    "def simil_docs(doc_id, tagged_data, model):\n",
    "    inferred_vector = model.infer_vector(tagged_data[doc_id].words)\n",
    "    sims = model.docvecs.most_similar([inferred_vector], topn=len(model.docvecs))\n",
    "    print('Document ({}): «{}»\\n'.format(doc_id, ' '.join(tagged_data[doc_id].words)))\n",
    "    print(u'Model for which similarity computed %s:\\n' % model)\n",
    "    a1 = [('Most similar', 0), ('second most similar', 1), ('Median similarity', len(sims)//2), ('Least similarity', len(sims) - 1)]\n",
    "    for x in a1:\n",
    "        print(x[0], ' doc had simil_score: ', round(sims[x[1]][1],3), \n",
    "              '\\n doc text is: ',' '.join(tagged_data[int(sims[x[1]][0])].words), '\\n\\n')\t\t\n",
    "\n",
    "%time simil_docs(1, tagged_data, model)"
   ]
  },
  {
   "cell_type": "markdown",
   "metadata": {},
   "source": [
    "Do read the above and find out if it makes sense. Does the 'most similar' doc indeed have greatest similarity with the focal doc? Well, turns out its the same doc again! But then why is not the simil score 1.0? And so on. \n",
    "\n",
    "One gets a 'feel' for how the model behaves in different situations when one repeats the above across different corpora. It's quite possible that doc2vec might work well with one coprus and flop totally with the next. Tweaking model parms etc is one option to improve matters.\n",
    "\n",
    "What else can we do? Now that we have a vector space representation of text, we could use: \n",
    "\n",
    "[1] cluster-an to group together proximate docs\n",
    "\n",
    "[2] find similarity of a corpus of docs against different position statements.\n",
    "\n",
    "E.g., suppose we've a hypothesis: \"Any mention of battery life leads to low sentiment or overall evaluation.\"\n",
    "\n",
    "We could use the hypothesis and its variants themselves as a position document and look for similarities or distances from that position statement of every doc in a corpus.\n",
    "\n",
    "## Cluster-An variants with Doc2Vec output\n",
    "\n",
    "Let's head here next. Plan is to use a few tricks in the dimensiona reduction arena to see what all emerges in this rather small corpus with doc2vec.\n",
    "\n",
    "I'll restrict myself here merely to PCA and t-SNEs (look up wiki for basic introductory ref)\n",
    "\n",
    "Behold."
   ]
  },
  {
   "cell_type": "code",
   "execution_count": 29,
   "metadata": {},
   "outputs": [
    {
     "data": {
      "text/plain": [
       "(120, 100)"
      ]
     },
     "execution_count": 29,
     "metadata": {},
     "output_type": "execute_result"
    }
   ],
   "source": [
    "# build 120 x 100 wala doc vector matrix first\n",
    "a0 = model.docvecs['0'].T.reshape(1, 100); a0.shape\n",
    "for i0 in range(1, len(nokia)):\n",
    "    a1 = model.docvecs[i0].T.reshape(1, 100); a1.shape\n",
    "    a0 = np.concatenate((a0, a1), axis=0); a0.shape\n",
    "    \n",
    "a0.shape"
   ]
  },
  {
   "cell_type": "code",
   "execution_count": 30,
   "metadata": {},
   "outputs": [
    {
     "name": "stdout",
     "output_type": "stream",
     "text": [
      "Wall time: 9.97 ms\n"
     ]
    },
    {
     "data": {
      "text/plain": [
       "<matplotlib.collections.PathCollection at 0x1ed18151240>"
      ]
     },
     "execution_count": 30,
     "metadata": {},
     "output_type": "execute_result"
    },
    {
     "data": {
      "image/png": "[encoded data removed]",
      "text/plain": [
       "<Figure size 432x288 with 1 Axes>"
      ]
     },
     "metadata": {
      "needs_background": "light"
     },
     "output_type": "display_data"
    }
   ],
   "source": [
    "# view what 2-D projection of data looks like\n",
    "from sklearn.decomposition import PCA\n",
    "import matplotlib.pyplot as plt\n",
    "%time pca_x = PCA(n_components=2).fit_transform(a0)\n",
    "plt.scatter(pca_x[:, 0], pca_x[:, 1],alpha=0.08)  # not too many natural groupings arising, eh?"
   ]
  },
  {
   "cell_type": "code",
   "execution_count": 31,
   "metadata": {},
   "outputs": [
    {
     "name": "stdout",
     "output_type": "stream",
     "text": [
      "Wall time: 588 ms\n"
     ]
    }
   ],
   "source": [
    "from sklearn.manifold import TSNE\n",
    "## let's try t-SNE method. manifold learning of high dimensional structures\n",
    "%time X_tsne = TSNE(n_components=2).fit_transform(a0)  # 0.6s\n",
    "df_tsne = pd.DataFrame(X_tsne, index=range(len(nokia)), columns=['x', 'y'])"
   ]
  },
  {
   "cell_type": "code",
   "execution_count": 32,
   "metadata": {},
   "outputs": [
    {
     "data": {
      "text/plain": [
       "<matplotlib.collections.PathCollection at 0x1ed181faac8>"
      ]
     },
     "execution_count": 32,
     "metadata": {},
     "output_type": "execute_result"
    },
    {
     "data": {
      "image/png": "[encoded data removed]",
      "text/plain": [
       "<Figure size 432x288 with 1 Axes>"
      ]
     },
     "metadata": {
      "needs_background": "light"
     },
     "output_type": "display_data"
    }
   ],
   "source": [
    "# create a scatterplot of the resulting 2-dimensional data\n",
    "plt.scatter(df_tsne['x'], df_tsne['y'],alpha=0.08)"
   ]
  },
  {
   "cell_type": "code",
   "execution_count": 33,
   "metadata": {},
   "outputs": [
    {
     "name": "stdout",
     "output_type": "stream",
     "text": [
      "Execution Time:  0.026929378509521484\n"
     ]
    },
    {
     "data": {
      "image/png": "[encoded data removed]",
      "text/plain": [
       "<Figure size 432x288 with 1 Axes>"
      ]
     },
     "metadata": {
      "needs_background": "light"
     },
     "output_type": "display_data"
    }
   ],
   "source": [
    "# finally, k-means-ish method for cluster-an.\n",
    "# $conda install -c conda-forge scikit-learn-extra\n",
    "from sklearn_extra.cluster import KMedoids\n",
    "np.random.seed(42)\n",
    "t1 = time.time()\n",
    "Sum_of_squared_distances = []\n",
    "K = range(1,10)\n",
    "for k in K:\n",
    "    km = KMedoids(n_clusters=k,metric=\"cosine\").fit(X_tsne)\n",
    "    Sum_of_squared_distances.append(km.inertia_)\n",
    "print(\"Execution Time: \", time.time()-t1)  # 0.02s\n",
    "\n",
    "# scree-plot of num_clusters with goodness_fit\n",
    "plt.plot(K, Sum_of_squared_distances, 'bx-')\n",
    "plt.xlabel('k')\n",
    "plt.ylabel('Sum_of_squared_distances')\n",
    "plt.title('Elbow Method For Optimal k')\n",
    "plt.show()"
   ]
  },
  {
   "cell_type": "code",
   "execution_count": 34,
   "metadata": {},
   "outputs": [],
   "source": [
    "km = KMedoids(n_clusters=3,metric=\"cosine\").fit(X_tsne)\n",
    "y_kmediod = km.predict(X_tsne)"
   ]
  },
  {
   "cell_type": "code",
   "execution_count": 35,
   "metadata": {},
   "outputs": [
    {
     "data": {
      "text/plain": [
       "<matplotlib.collections.PathCollection at 0x1ed193ab160>"
      ]
     },
     "execution_count": 35,
     "metadata": {},
     "output_type": "execute_result"
    },
    {
     "data": {
      "image/png": "[encoded data removed]",
      "text/plain": [
       "<Figure size 432x288 with 1 Axes>"
      ]
     },
     "metadata": {
      "needs_background": "light"
     },
     "output_type": "display_data"
    }
   ],
   "source": [
    "plt.scatter(df_tsne['x'], df_tsne['y'], c=y_kmediod, s=50, cmap='viridis',alpha=0.08)\n",
    "centers = km.cluster_centers_\n",
    "plt.scatter(centers[:, 0], centers[:, 1], c='red', s=200, alpha=0.5)"
   ]
  },
  {
   "cell_type": "markdown",
   "metadata": {},
   "source": [
    "Will stop here for now. Ciao.\n",
    "\n",
    "Sudhir"
   ]
  },
  {
   "cell_type": "code",
   "execution_count": null,
   "metadata": {},
   "outputs": [],
   "source": []
  }
 ],
 "metadata": {
  "kernelspec": {
   "display_name": "Python 3",
   "language": "python",
   "name": "python3"
  },
  "language_info": {
   "codemirror_mode": {
    "name": "ipython",
    "version": 3
   },
   "file_extension": ".py",
   "mimetype": "text/x-python",
   "name": "python",
   "nbconvert_exporter": "python",
   "pygments_lexer": "ipython3",
   "version": "3.7.3"
  }
 },
 "nbformat": 4,
 "nbformat_minor": 2
}
